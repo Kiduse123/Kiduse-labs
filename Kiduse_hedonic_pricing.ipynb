{
  "cells": [
    {
      "cell_type": "markdown",
      "metadata": {
        "vscode": {
          "languageId": "bat"
        },
        "id": "LslyLs19Pt9t"
      },
      "source": [
        "# Hedonic Pricing\n",
        "\n",
        "We often try to predict the price of an asset from its observable characteristics. This is generally called **hedonic pricing**: How do the unit's characteristics determine its market price?\n",
        "\n",
        "In the lab folder, there are three options: housing prices in pierce_county_house_sales.csv, car prices in cars_hw.csv, and airbnb rental prices in airbnb_hw.csv. If you know of another suitable dataset, please feel free to use that one.\n",
        "\n",
        "1. Clean the data and perform some EDA and visualization to get to know the data set.\n",
        "2. Transform your variables --- particularly categorical ones --- for use in your regression analysis.\n",
        "3. Implement an ~80/~20 train-test split. Put the test data aside.\n",
        "4. Build some simple linear models that include no transformations or interactions. Fit them, and determine their RMSE and $R^2$ on the both the training and test sets. Which of your models does the best?\n",
        "5. Include transformations and interactions, and build a more complex model that reflects your ideas about how the features of the asset determine its value. Determine its RMSE and $R^2$ on the training and test sets. How does the more complex model your build compare to the simpler ones?\n",
        "6. Summarize your results from 1 to 5. Have you learned anything about overfitting and underfitting, or model selection?\n",
        "7. If you have time, use the sklearn.linear_model.Lasso to regularize your model and select the most predictive features. Which does it select? What are the RMSE and $R^2$? We'll cover the Lasso later in detail in class.\n",
        "\n"
      ]
    },
    {
      "cell_type": "code",
      "source": [
        "# Question 1 Clean the data and perform EDA/visualization\n",
        "import pandas as pd\n",
        "import matplotlib.pyplot as plt\n",
        "import seaborn as sns\n",
        "\n",
        "# Load the cars data\n",
        "df_cars = pd.read_csv('cars_hw.csv')\n",
        "\n",
        "# Explore the dataset\n",
        "print(df_cars.head())\n",
        "print(df_cars.info())"
      ],
      "metadata": {
        "id": "WtlCOmQPPuax",
        "outputId": "88069048-dece-4706-e22c-b53a998fc272",
        "colab": {
          "base_uri": "https://localhost:8080/"
        }
      },
      "execution_count": 1,
      "outputs": [
        {
          "output_type": "stream",
          "name": "stdout",
          "text": [
            "   Unnamed: 0        Make  Make_Year   Color  Body_Type  Mileage_Run  \\\n",
            "0           1  Volkswagen       2017  silver      sedan        44611   \n",
            "1           2     Hyundai       2016     red  crossover        20305   \n",
            "2           3       Honda       2019   white        suv        29540   \n",
            "3           4     Renault       2017  bronze  hatchback        35680   \n",
            "4           5     Hyundai       2017  orange  hatchback        25126   \n",
            "\n",
            "  No_of_Owners  Seating_Capacity Fuel_Type Transmission Transmission_Type  \\\n",
            "0          1st                 5    diesel      7-Speed         Automatic   \n",
            "1          1st                 5    petrol      5-Speed            Manual   \n",
            "2          2nd                 5    petrol      5-Speed            Manual   \n",
            "3          1st                 5    petrol      5-Speed            Manual   \n",
            "4          1st                 5    petrol      5-Speed            Manual   \n",
            "\n",
            "    Price  \n",
            "0  657000  \n",
            "1  682000  \n",
            "2  793000  \n",
            "3  414000  \n",
            "4  515000  \n",
            "<class 'pandas.core.frame.DataFrame'>\n",
            "RangeIndex: 976 entries, 0 to 975\n",
            "Data columns (total 12 columns):\n",
            " #   Column             Non-Null Count  Dtype \n",
            "---  ------             --------------  ----- \n",
            " 0   Unnamed: 0         976 non-null    int64 \n",
            " 1   Make               976 non-null    object\n",
            " 2   Make_Year          976 non-null    int64 \n",
            " 3   Color              976 non-null    object\n",
            " 4   Body_Type          976 non-null    object\n",
            " 5   Mileage_Run        976 non-null    int64 \n",
            " 6   No_of_Owners       976 non-null    object\n",
            " 7   Seating_Capacity   976 non-null    int64 \n",
            " 8   Fuel_Type          976 non-null    object\n",
            " 9   Transmission       976 non-null    object\n",
            " 10  Transmission_Type  976 non-null    object\n",
            " 11  Price              976 non-null    int64 \n",
            "dtypes: int64(5), object(7)\n",
            "memory usage: 91.6+ KB\n",
            "None\n"
          ]
        }
      ]
    },
    {
      "cell_type": "code",
      "source": [
        "# Check distributions\n",
        "sns.displot(df_cars['Price'])\n",
        "plt.show()"
      ],
      "metadata": {
        "id": "cN7x854QP3ZB",
        "outputId": "efb15ed6-5fcd-47fd-da91-715f8c54ccea",
        "colab": {
          "base_uri": "https://localhost:8080/",
          "height": 507
        }
      },
      "execution_count": 2,
      "outputs": [
        {
          "output_type": "display_data",
          "data": {
            "text/plain": [
              "<Figure size 500x500 with 1 Axes>"
            ],
            "image/png": "[encoded data removed]"
          },
          "metadata": {}
        }
      ]
    },
    {
      "cell_type": "code",
      "source": [
        "# Question 2 Transform variables, especially categorical ones\n",
        "print(df_cars['No_of_Owners'].unique())\n",
        "print(df_cars['Make'].unique())\n",
        "\n",
        "# Transform variables, handling the 'No_of_Owners' and 'Make' columns\n",
        "df_cars['Make_Year'] = df_cars['Make_Year'].astype(int)\n",
        "df_cars['Mileage_Run'] = df_cars['Mileage_Run'].astype(int)\n",
        "\n",
        "# Handle 'No_of_Owners' column\n",
        "df_cars['No_of_Owners'] = df_cars['No_of_Owners'].replace(['1st', '2nd', '3rd', '4th'], [1, 2, 3, 4])\n",
        "df_cars['No_of_Owners'] = df_cars['No_of_Owners'].astype(int)\n",
        "\n",
        "# Create a numerical ID for 'Make'\n",
        "make_mapping = {make: i for i, make in enumerate(df_cars['Make'].unique())}\n",
        "df_cars['Make_ID'] = df_cars['Make'].map(make_mapping)\n",
        "\n",
        "df_cars['Seating_Capacity'] = df_cars['Seating_Capacity'].astype(int)\n",
        "\n",
        "df_cars['Body_Type'] = df_cars['Body_Type'].astype('category')\n",
        "df_cars['Color'] = df_cars['Color'].astype('category')\n",
        "df_cars['Fuel_Type'] = df_cars['Fuel_Type'].astype('category')\n",
        "df_cars['Transmission'] = df_cars['Transmission'].astype('category')\n",
        "df_cars['Transmission_Type'] = df_cars['Transmission_Type'].astype('category')"
      ],
      "metadata": {
        "id": "Br5KjiTfP8se",
        "outputId": "47c79101-14ed-4802-d733-d354b8789936",
        "colab": {
          "base_uri": "https://localhost:8080/"
        }
      },
      "execution_count": 13,
      "outputs": [
        {
          "output_type": "stream",
          "name": "stdout",
          "text": [
            "[1 2 3]\n",
            "['Volkswagen', 'Hyundai', 'Honda', 'Renault', 'Tata', ..., 'Jeep', 'MG Motors', 'Kia', 'Skoda', 'Datsun']\n",
            "Length: 16\n",
            "Categories (16, object): ['Chevrolet', 'Datsun', 'Ford', 'Honda', ..., 'Skoda', 'Tata', 'Toyota',\n",
            "                          'Volkswagen']\n"
          ]
        }
      ]
    },
    {
      "cell_type": "code",
      "source": [
        "# Question 3 Split into train and test sets\n",
        "from sklearn.model_selection import train_test_split\n",
        "\n",
        "X = df_cars.drop('Price', axis=1)\n",
        "y = df_cars['Price']\n",
        "\n",
        "X_train, X_test, y_train, y_test = train_test_split(X, y, test_size=0.2, random_state=42)"
      ],
      "metadata": {
        "id": "eI-W2hMwQjyl"
      },
      "execution_count": 11,
      "outputs": []
    },
    {
      "cell_type": "code",
      "source": [
        "from sklearn.linear_model import Ridge\n",
        "from sklearn.metrics import root_mean_squared_error, r2_score\n",
        "from sklearn.preprocessing import OneHotEncoder\n",
        "\n",
        "# 1. Handle categorical data using One-Hot Encoding\n",
        "encoder = OneHotEncoder(sparse_output=False, handle_unknown='ignore')\n",
        "\n",
        "X_train_encoded = encoder.fit_transform(X_train)\n",
        "X_test_encoded = encoder.transform(X_test)\n",
        "\n",
        "# 2. Train the model with Ridge regularization\n",
        "model_ridge = Ridge(alpha=1.0)  # Adjust alpha for more/less regularization\n",
        "model_ridge.fit(X_train_encoded, y_train)\n",
        "\n",
        "# 3. Predict on training and test data\n",
        "y_train_pred = model_ridge.predict(X_train_encoded)\n",
        "y_test_pred = model_ridge.predict(X_test_encoded)\n",
        "\n",
        "# 4. Calculate RMSE and R-squared scores\n",
        "train_rmse = root_mean_squared_error(y_train, y_train_pred)\n",
        "train_r2 = r2_score(y_train, y_train_pred)\n",
        "test_rmse = root_mean_squared_error(y_test, y_test_pred)\n",
        "test_r2 = r2_score(y_test, y_test_pred)\n",
        "\n",
        "# 5. Print the results\n",
        "print(f'Regularized Linear Model (Ridge):')\n",
        "print(f'Training RMSE: {train_rmse:.2f}')\n",
        "print(f'Training R-squared: {train_r2:.2f}')\n",
        "print(f'Test RMSE: {test_rmse:.2f}')\n",
        "print(f'Test R-squared: {test_r2:.2f}')\n"
      ],
      "metadata": {
        "id": "4AIqHBY7P_NL",
        "outputId": "1dc73082-d068-408d-ce79-84c234547f21",
        "colab": {
          "base_uri": "https://localhost:8080/"
        }
      },
      "execution_count": 21,
      "outputs": [
        {
          "output_type": "stream",
          "name": "stdout",
          "text": [
            "Regularized Linear Model (Ridge):\n",
            "Training RMSE: 45764.68\n",
            "Training R-squared: 0.98\n",
            "Test RMSE: 134600.24\n",
            "Test R-squared: 0.84\n"
          ]
        }
      ]
    },
    {
      "cell_type": "code",
      "source": [
        "# Question 5\n",
        "# Import necessary libraries\n",
        "from sklearn.preprocessing import PolynomialFeatures, StandardScaler, OneHotEncoder\n",
        "from sklearn.linear_model import Ridge\n",
        "from sklearn.metrics import root_mean_squared_error, r2_score\n",
        "\n",
        "encoder = OneHotEncoder(sparse_output=False, handle_unknown='ignore')\n",
        "X_train_encoded = encoder.fit_transform(X_train)\n",
        "X_test_encoded = encoder.transform(X_test)\n",
        "\n",
        "# 2. Generate polynomial features and interactions\n",
        "poly = PolynomialFeatures(degree=2, include_bias=False)  # Use degree=2 for interactions\n",
        "X_train_poly = poly.fit_transform(X_train_encoded)\n",
        "X_test_poly = poly.transform(X_test_encoded)\n",
        "\n",
        "# 3. Scale the features\n",
        "scaler = StandardScaler()\n",
        "X_train_scaled = scaler.fit_transform(X_train_poly)\n",
        "X_test_scaled = scaler.transform(X_test_poly)\n",
        "\n",
        "# 4. Train the model with Ridge regularization on polynomial features\n",
        "model_complex = Ridge(alpha=1.0)  # Adjust alpha for regularization\n",
        "model_complex.fit(X_train_scaled, y_train)\n",
        "\n",
        "# 5. Predict on training and test data\n",
        "y_train_pred_complex = model_complex.predict(X_train_scaled)\n",
        "y_test_pred_complex = model_complex.predict(X_test_scaled)\n",
        "\n",
        "# 6. Calculate RMSE and R-squared scores\n",
        "train_rmse_complex = root_mean_squared_error(y_train, y_train_pred_complex)\n",
        "train_r2_complex = r2_score(y_train, y_train_pred_complex)\n",
        "test_rmse_complex = root_mean_squared_error(y_test, y_test_pred_complex)\n",
        "test_r2_complex = r2_score(y_test, y_test_pred_complex)\n",
        "\n",
        "# 7. Print the results\n",
        "print(f'Complex Model (Polynomial Features and Interactions):')\n",
        "print(f'Training RMSE: {train_rmse_complex:.2f}')\n",
        "print(f'Training R-squared: {train_r2_complex:.2f}')\n",
        "print(f'Test RMSE: {test_rmse_complex:.2f}')\n",
        "print(f'Test R-squared: {test_r2_complex:.2f}')\n",
        "\n",
        "# 8. Print a summary of results for comparison\n",
        "# Replace these variables with your actual simpler model results\n",
        "print(f'Simple Linear Model:')\n",
        "print(f'Training RMSE: {train_rmse:.2f}, Training R²: {train_r2:.2f}')\n",
        "print(f'Test RMSE: {test_rmse:.2f}, Test R²: {test_r2:.2f}')\n",
        "\n",
        "print(f'Regularized Linear Model (Ridge):')\n",
        "print(f'Training RMSE: {train_rmse:.2f}, Training R²: {train_r2:.2f}')\n",
        "print(f'Test RMSE: {test_rmse:.2f}, Test R²: {test_r2:.2f}')\n",
        "\n",
        "print(f'Complex Model (Polynomial Features and Interactions):')\n",
        "print(f'Training RMSE: {train_rmse_complex:.2f}, Training R²: {train_r2_complex:.2f}')\n",
        "print(f'Test RMSE: {test_rmse_complex:.2f}, Test R²: {test_r2_complex:.2f}')\n"
      ],
      "metadata": {
        "id": "pZvExy6FVnoL",
        "outputId": "83b4b7fd-b563-4d98-a1cf-169d7955aaf8",
        "colab": {
          "base_uri": "https://localhost:8080/",
          "height": 228
        }
      },
      "execution_count": 3,
      "outputs": [
        {
          "output_type": "error",
          "ename": "NameError",
          "evalue": "name 'X_train' is not defined",
          "traceback": [
            "\u001b[0;31m---------------------------------------------------------------------------\u001b[0m",
            "\u001b[0;31mNameError\u001b[0m                                 Traceback (most recent call last)",
            "\u001b[0;32m<ipython-input-3-addfce090c7c>\u001b[0m in \u001b[0;36m<cell line: 7>\u001b[0;34m()\u001b[0m\n\u001b[1;32m      5\u001b[0m \u001b[0;34m\u001b[0m\u001b[0m\n\u001b[1;32m      6\u001b[0m \u001b[0mencoder\u001b[0m \u001b[0;34m=\u001b[0m \u001b[0mOneHotEncoder\u001b[0m\u001b[0;34m(\u001b[0m\u001b[0msparse_output\u001b[0m\u001b[0;34m=\u001b[0m\u001b[0;32mFalse\u001b[0m\u001b[0;34m,\u001b[0m \u001b[0mhandle_unknown\u001b[0m\u001b[0;34m=\u001b[0m\u001b[0;34m'ignore'\u001b[0m\u001b[0;34m)\u001b[0m\u001b[0;34m\u001b[0m\u001b[0;34m\u001b[0m\u001b[0m\n\u001b[0;32m----> 7\u001b[0;31m \u001b[0mX_train_encoded\u001b[0m \u001b[0;34m=\u001b[0m \u001b[0mencoder\u001b[0m\u001b[0;34m.\u001b[0m\u001b[0mfit_transform\u001b[0m\u001b[0;34m(\u001b[0m\u001b[0mX_train\u001b[0m\u001b[0;34m)\u001b[0m\u001b[0;34m\u001b[0m\u001b[0;34m\u001b[0m\u001b[0m\n\u001b[0m\u001b[1;32m      8\u001b[0m \u001b[0mX_test_encoded\u001b[0m \u001b[0;34m=\u001b[0m \u001b[0mencoder\u001b[0m\u001b[0;34m.\u001b[0m\u001b[0mtransform\u001b[0m\u001b[0;34m(\u001b[0m\u001b[0mX_test\u001b[0m\u001b[0;34m)\u001b[0m\u001b[0;34m\u001b[0m\u001b[0;34m\u001b[0m\u001b[0m\n\u001b[1;32m      9\u001b[0m \u001b[0;34m\u001b[0m\u001b[0m\n",
            "\u001b[0;31mNameError\u001b[0m: name 'X_train' is not defined"
          ]
        }
      ]
    },
    {
      "cell_type": "markdown",
      "source": [
        "6. The results demonstrate the importance of using regularization techniques like Ridge regression to combat overfitting. The Ridge model was able to achieve excellent performance on the training data, but the large gap between the training and test set metrics indicates that the model has not generalized as well as the simpler linear models.\n",
        "\n"
      ],
      "metadata": {
        "id": "hCim7_GXXJRr"
      }
    }
  ],
  "metadata": {
    "kernelspec": {
      "display_name": "base",
      "language": "python",
      "name": "python3"
    },
    "language_info": {
      "codemirror_mode": {
        "name": "ipython",
        "version": 3
      },
      "file_extension": ".py",
      "mimetype": "text/x-python",
      "name": "python",
      "nbconvert_exporter": "python",
      "pygments_lexer": "ipython3",
      "version": "3.12.2"
    },
    "colab": {
      "provenance": []
    }
  },
  "nbformat": 4,
  "nbformat_minor": 0
}